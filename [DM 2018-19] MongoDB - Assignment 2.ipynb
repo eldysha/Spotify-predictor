{
 "cells": [
  {
   "cell_type": "markdown",
   "metadata": {},
   "source": [
    "## Import The Libraries"
   ]
  },
  {
   "cell_type": "code",
   "execution_count": 2,
   "metadata": {},
   "outputs": [],
   "source": [
    "from __future__ import absolute_import, print_function\n",
    "import tweepy\n",
    "from tweepy import OAuthHandler\n",
    "from tweepy import Stream\n",
    "import json"
   ]
  },
  {
   "cell_type": "markdown",
   "metadata": {},
   "source": [
    "## Generate Auth for Twitter\n",
    "On registration Twitter gives us 4 keys that are to be used to query the platform. Tweepy will come in handy for this."
   ]
  },
  {
   "cell_type": "code",
   "execution_count": 61,
   "metadata": {},
   "outputs": [],
   "source": [
    "import os\n",
    "import json"
   ]
  },
  {
   "cell_type": "code",
   "execution_count": 67,
   "metadata": {},
   "outputs": [
    {
     "ename": "SyntaxError",
     "evalue": "invalid syntax (<ipython-input-67-52afe7ffd27c>, line 1)",
     "output_type": "error",
     "traceback": [
      "\u001b[1;36m  File \u001b[1;32m\"<ipython-input-67-52afe7ffd27c>\"\u001b[1;36m, line \u001b[1;32m1\u001b[0m\n\u001b[1;33m    os.chdir(c:Users\\abdel)\u001b[0m\n\u001b[1;37m              ^\u001b[0m\n\u001b[1;31mSyntaxError\u001b[0m\u001b[1;31m:\u001b[0m invalid syntax\n"
     ]
    }
   ],
   "source": []
  },
  {
   "cell_type": "code",
   "execution_count": 51,
   "metadata": {},
   "outputs": [
    {
     "name": "stdout",
     "output_type": "stream",
     "text": [
      "Files in 'C:\\Users\\abdel\\Jupyter Notebooks-20181122 (1)': ['.ipynb_checkpoints', '[DM 2018-19] MongoDB - Assignment 1.ipynb', '[DM 2018-19] MongoDB - Assignment 2.ipynb']\n"
     ]
    }
   ],
   "source": [
    "cwd = os.getcwd()  # Get the current working directory (cwd)\n",
    "files = os.listdir(cwd)  # Get all the files in that directory\n",
    "print(\"Files in '%s': %s\" % (cwd, files))"
   ]
  },
  {
   "cell_type": "code",
   "execution_count": 49,
   "metadata": {},
   "outputs": [
    {
     "ename": "FileNotFoundError",
     "evalue": "[Errno 2] No such file or directory: 'secret.json'",
     "output_type": "error",
     "traceback": [
      "\u001b[1;31m---------------------------------------------------------------------------\u001b[0m",
      "\u001b[1;31mFileNotFoundError\u001b[0m                         Traceback (most recent call last)",
      "\u001b[1;32m<ipython-input-49-872ee806bde6>\u001b[0m in \u001b[0;36m<module>\u001b[1;34m()\u001b[0m\n\u001b[0;32m      1\u001b[0m \u001b[1;31m# Create a new \"secret.json\" file and put in it your Twitter tokens\u001b[0m\u001b[1;33m\u001b[0m\u001b[1;33m\u001b[0m\u001b[0m\n\u001b[0;32m      2\u001b[0m \u001b[1;31m# This code block will automatically read your credential from that file\u001b[0m\u001b[1;33m\u001b[0m\u001b[1;33m\u001b[0m\u001b[0m\n\u001b[1;32m----> 3\u001b[1;33m \u001b[1;32mwith\u001b[0m \u001b[0mopen\u001b[0m\u001b[1;33m(\u001b[0m\u001b[1;34m\"secret.json\"\u001b[0m\u001b[1;33m,\u001b[0m \u001b[1;34m\"r\"\u001b[0m\u001b[1;33m)\u001b[0m \u001b[1;32mas\u001b[0m \u001b[0mf\u001b[0m\u001b[1;33m:\u001b[0m\u001b[1;33m\u001b[0m\u001b[0m\n\u001b[0m\u001b[0;32m      4\u001b[0m     \u001b[0msecret\u001b[0m \u001b[1;33m=\u001b[0m \u001b[0mjson\u001b[0m\u001b[1;33m.\u001b[0m\u001b[0mload\u001b[0m\u001b[1;33m(\u001b[0m\u001b[0mf\u001b[0m\u001b[1;33m)\u001b[0m\u001b[1;33m\u001b[0m\u001b[0m\n\u001b[0;32m      5\u001b[0m     \u001b[0mconsumer_key\u001b[0m\u001b[1;33m=\u001b[0m\u001b[0msecret\u001b[0m\u001b[1;33m[\u001b[0m\u001b[1;34m\"CONSUMER_KEY\"\u001b[0m\u001b[1;33m]\u001b[0m\u001b[1;33m\u001b[0m\u001b[0m\n",
      "\u001b[1;31mFileNotFoundError\u001b[0m: [Errno 2] No such file or directory: 'secret.json'"
     ]
    }
   ],
   "source": [
    "# Create a new \"secret.json\" file and put in it your Twitter tokens\n",
    "# This code block will automatically read your credential from that file\n",
    "with open(\"secret.json\", \"r\") as f:\n",
    "    secret = json.load(f)\n",
    "    consumer_key=secret[\"CONSUMER_KEY\"]\n",
    "    consumer_secret=secret[\"CONSUMER_SECRET\"]\n",
    "\n",
    "    access_token=secret[\"ACCESS_TOKEN\"]\n",
    "    access_token_secret=secret[\"ACCESS_TOKEN_SECRET\"]\n",
    "\n",
    "auth = OAuthHandler(consumer_key, consumer_secret)\n",
    "auth.set_access_token(access_token, access_token_secret)\n",
    "api = tweepy.API(auth)"
   ]
  },
  {
   "cell_type": "markdown",
   "metadata": {},
   "source": [
    "# Demo: PyMongo"
   ]
  },
  {
   "cell_type": "code",
   "execution_count": 53,
   "metadata": {},
   "outputs": [],
   "source": [
    "import pymongo\n",
    "from pymongo import MongoClient\n",
    "client = MongoClient('localhost', 27017)"
   ]
  },
  {
   "cell_type": "code",
   "execution_count": 54,
   "metadata": {},
   "outputs": [
    {
     "data": {
      "text/plain": [
       "pymongo.collection.Collection"
      ]
     },
     "execution_count": 54,
     "metadata": {},
     "output_type": "execute_result"
    }
   ],
   "source": [
    "db = client.twitter # Get the \"twitter\" database\n",
    "tweets = db.tweets # Get the \"tweets\" collection from the \"twitter\" database\n",
    "type(tweets)"
   ]
  },
  {
   "cell_type": "code",
   "execution_count": 55,
   "metadata": {},
   "outputs": [],
   "source": [
    "tweets.find_one({\"username\": \"Milano-Bicocca\"})"
   ]
  },
  {
   "cell_type": "code",
   "execution_count": 56,
   "metadata": {},
   "outputs": [
    {
     "data": {
      "text/plain": [
       "[]"
      ]
     },
     "execution_count": 56,
     "metadata": {},
     "output_type": "execute_result"
    }
   ],
   "source": [
    "search_res = tweets.find({'favorite_count' : { '$gt' :  3, '$lt' : 5}}, {'tweet' : 1, '_id' : 0} )\n",
    "[res for res in search_res]"
   ]
  },
  {
   "cell_type": "code",
   "execution_count": null,
   "metadata": {},
   "outputs": [],
   "source": [
    "aggr_res = tweets.aggregate([ { '$group': { '_id': \"avg_favorite\", 'favorite_count': { '$avg': \"$favorite_count\" } } } ] )\n",
    "[res for res in aggr_res]"
   ]
  },
  {
   "cell_type": "code",
   "execution_count": null,
   "metadata": {},
   "outputs": [],
   "source": [
    "tweet = {\"username\": \"Digao\", \"tweet\" : \"A new tweet\"}\n",
    "new_tweet = tweets.insert_one(tweet).inserted_id\n",
    "tweets.find_one({\"_id\": new_tweet})"
   ]
  },
  {
   "cell_type": "code",
   "execution_count": null,
   "metadata": {},
   "outputs": [],
   "source": [
    "tweets.update_one({\"username\" : \"Digao\"}, { '$set' : { 'retweet' : 5000 }})\n",
    "tweets.find_one({\"username\" : \"Digao\"})"
   ]
  },
  {
   "cell_type": "code",
   "execution_count": null,
   "metadata": {},
   "outputs": [],
   "source": [
    "tweets.delete_many({\"username\" : \"Digao\"})\n",
    "tweets.find_one({\"username\" : \"Digao\"})"
   ]
  },
  {
   "cell_type": "markdown",
   "metadata": {},
   "source": [
    "# Exercise 2\n",
    "+ Connect to your MongoDB client\n",
    "+ Create a new collection \"streaming-twitter\", and then add a new collection tweets to it\n",
    "+ Listen to the Twitter streaming and store 30 tweets to the new collection\n",
    "+ Run the following queries:\n",
    "    + Get the total number of documents\n",
    "    + Find one tweet posted by the most followed user\n",
    "    + Get the average number of retweets and favorites\n",
    "    + Find tweets that contain hashtags and sort them by the number of author's followers, project only text of the tweet\n",
    "    + Delete all non-english tweets\n",
    "    + Get tweets that have 100 < retweet < 200"
   ]
  },
  {
   "cell_type": "code",
   "execution_count": null,
   "metadata": {},
   "outputs": [],
   "source": [
    "# Create database and collection\n",
    "streaming_twitter = # CREATE THE DATABASE HERE\n",
    "new_tweets_coll = # CREATE THE COLLECTION HERE"
   ]
  },
  {
   "cell_type": "code",
   "execution_count": null,
   "metadata": {},
   "outputs": [],
   "source": [
    "from tweepy.streaming import StreamListener\n",
    "from tweepy import Stream\n",
    "\n",
    "class Listener(tweepy.StreamListener):\n",
    "    \n",
    "    def __init__(self, api, mongo_coll):\n",
    "        self.api = api\n",
    "        self.mongo_coll = mongo_coll\n",
    "        self.limit = 30\n",
    "        self.count = 0\n",
    "        \n",
    "    def on_status(self, status):\n",
    "        # Add the status to the mongo_coll, if the counter is less than the limit\n",
    "        \n",
    "        # STORE THE STATUS HERE\n",
    "    \n",
    "    def on_error(self, error):\n",
    "        print('An error occurred: {}'.format(error))\n",
    "\n",
    "# Create the stream object and start it\n",
    "# The Listener object takes two arguments:\n",
    "# - the Twitter API object (for authentication)\n",
    "# - a MongoDB collection\n",
    "# You can exit the streaming by returning False\n",
    "\n",
    "# CREATE THE LISTENER/STREAM OBJECT HERE"
   ]
  },
  {
   "cell_type": "markdown",
   "metadata": {},
   "source": [
    "Query 1: Get the total number of documents "
   ]
  },
  {
   "cell_type": "code",
   "execution_count": null,
   "metadata": {},
   "outputs": [],
   "source": [
    "query1res = # QUERY 1 HERE\n",
    "query1res"
   ]
  },
  {
   "cell_type": "markdown",
   "metadata": {},
   "source": [
    "Query 2: Find one tweet posted by the most followed user"
   ]
  },
  {
   "cell_type": "code",
   "execution_count": null,
   "metadata": {},
   "outputs": [],
   "source": [
    "query2res = # QUERY 2 HERE\n",
    "[x for x in query2res]"
   ]
  },
  {
   "cell_type": "markdown",
   "metadata": {},
   "source": [
    "Query 3: Get the average number of retweets and favorites"
   ]
  },
  {
   "cell_type": "code",
   "execution_count": null,
   "metadata": {},
   "outputs": [],
   "source": [
    "query3res = # QUERY 3 HERE\n",
    "[x for x in query3res]"
   ]
  },
  {
   "cell_type": "markdown",
   "metadata": {},
   "source": [
    "Query 4: Find tweets that contain hashtags and sort them by the number of author's followers, project only text of the tweet"
   ]
  },
  {
   "cell_type": "code",
   "execution_count": null,
   "metadata": {
    "scrolled": true
   },
   "outputs": [],
   "source": [
    "query4res = # QUERY 4 HERE\n",
    "[x for x in query4res]"
   ]
  },
  {
   "cell_type": "markdown",
   "metadata": {},
   "source": [
    "Query 5: Delete all non-english tweets"
   ]
  },
  {
   "cell_type": "code",
   "execution_count": null,
   "metadata": {},
   "outputs": [],
   "source": [
    "query5res = # QUERY 5 HERE\n",
    "query5res.deleted_count"
   ]
  },
  {
   "cell_type": "markdown",
   "metadata": {},
   "source": [
    "Query 6: Get tweets that have 100 < retweet < 200"
   ]
  },
  {
   "cell_type": "code",
   "execution_count": null,
   "metadata": {},
   "outputs": [],
   "source": [
    "query6res = # QUERY 6 HERE\n",
    "[x for x in query6res]"
   ]
  }
 ],
 "metadata": {
  "kernelspec": {
   "display_name": "Python 3",
   "language": "python",
   "name": "python3"
  },
  "language_info": {
   "codemirror_mode": {
    "name": "ipython",
    "version": 3
   },
   "file_extension": ".py",
   "mimetype": "text/x-python",
   "name": "python",
   "nbconvert_exporter": "python",
   "pygments_lexer": "ipython3",
   "version": "3.7.0"
  }
 },
 "nbformat": 4,
 "nbformat_minor": 2
}
